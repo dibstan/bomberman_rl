{
 "metadata": {
  "language_info": {
   "codemirror_mode": {
    "name": "ipython",
    "version": 3
   },
   "file_extension": ".py",
   "mimetype": "text/x-python",
   "name": "python",
   "nbconvert_exporter": "python",
   "pygments_lexer": "ipython3",
   "version": "3.7.4-final"
  },
  "orig_nbformat": 2,
  "kernelspec": {
   "name": "python3",
   "display_name": "Python 3",
   "language": "python"
  }
 },
 "nbformat": 4,
 "nbformat_minor": 2,
 "cells": [
  {
   "cell_type": "code",
   "execution_count": 1,
   "metadata": {},
   "outputs": [],
   "source": [
    "import numpy as np\n",
    "from itertools import product "
   ]
  },
  {
   "cell_type": "code",
   "execution_count": 3,
   "metadata": {},
   "outputs": [
    {
     "output_type": "stream",
     "name": "stdout",
     "text": [
      "[list([(1, 2), (3, 4)]) list([(1, 2)])]\n"
     ]
    }
   ],
   "source": [
    "\n",
    "a = [[(1,2),(3,4)],[(1,2)]]\n",
    "A=np.array(a)\n",
    "print(A)"
   ]
  },
  {
   "cell_type": "code",
   "execution_count": 13,
   "metadata": {},
   "outputs": [],
   "source": [
    "coordinates = np.array(list(product(np.arange(0,17),np.arange(0,17))))"
   ]
  },
  {
   "cell_type": "code",
   "execution_count": 14,
   "metadata": {},
   "outputs": [
    {
     "output_type": "stream",
     "name": "stdout",
     "text": [
      "[0 1]\n[[1 2 1 1 0 1]\n [1 0 1 2 1 0]]\n"
     ]
    }
   ],
   "source": [
    "coor = coordinates[1]\n",
    "print(coor)\n",
    "print(a[coor])"
   ]
  },
  {
   "cell_type": "code",
   "execution_count": 19,
   "metadata": {},
   "outputs": [
    {
     "output_type": "stream",
     "name": "stdout",
     "text": [
      "1.0\n"
     ]
    }
   ],
   "source": [
    "c = (2,0,0)\n",
    "d = (1,0,0)\n",
    "print(np.linalg.norm(np.subtract(c,d)))"
   ]
  },
  {
   "cell_type": "code",
   "execution_count": 33,
   "metadata": {},
   "outputs": [],
   "source": [
    "def get_all_exploding_tiles(field) -> dict:\n",
    "    '''\n",
    "    For each pixel where we can place a bomb, we search all the tiles blowing up with that bomb\n",
    "\n",
    "    :param field: input must be game_state_field (state itself is arbitrary)\n",
    "    :return: dict where keys are coordinate tuples and values arrays of flattened coordinates\n",
    "    '''\n",
    "    \n",
    "    np.where(field == -1,-1,0)     #set all walls to -1, rest to 0\n",
    "    \n",
    "    exploding_tiles = {}\n",
    "\n",
    "    for i in range(17):\n",
    "        for j in range(17):\n",
    "            if field[i,j] == -1:\n",
    "                continue\n",
    "            coors_ij=[17*i + j]\n",
    "\n",
    "            #first consider walking to the right, stop when encounter -1 or after 3 steps\n",
    "            k,l = i,j\n",
    "            while (field[k,l+1] !=-1) and np.abs(l-j)<3:\n",
    "                l+=1\n",
    "                coors_ij.append(17*k+l)\n",
    "            #walking left:\n",
    "            k,l = i,j\n",
    "            while (field[k,l-1] !=-1) and np.abs(l-j)<3:\n",
    "                l-=1\n",
    "                coors_ij.append(17*k+l)\n",
    "            #walking up:\n",
    "            k,l = i,j\n",
    "            while (field[k-1,l] !=-1) and np.abs(k-i)<3:\n",
    "                k-=1\n",
    "                coors_ij.append(17*k+l)\n",
    "            #walking down\n",
    "            k,l = i,j\n",
    "            while (field[k+1,l] !=-1) and np.abs(k-i)<3:\n",
    "                k+=1\n",
    "                coors_ij.append(17*k+l)\n",
    "            \n",
    "            exploding_tiles[(i,j)] = np.array(coors_ij)\n",
    "\n",
    "    return exploding_tiles\n"
   ]
  },
  {
   "cell_type": "code",
   "execution_count": 23,
   "metadata": {
    "tags": []
   },
   "outputs": [
    {
     "output_type": "stream",
     "name": "stdout",
     "text": [
      "0 1\n0 2\n0 3\n"
     ]
    }
   ],
   "source": [
    "j = 0\n",
    "k = j\n",
    "i=0\n",
    "field = np.array([[0,0,0,0,0,0,0,0,-1,0]])\n",
    "while field[i,k+1] != -1 and np.abs(j-k)<3:  \n",
    "    print(i,k+1)\n",
    "    k+=1"
   ]
  },
  {
   "cell_type": "code",
   "execution_count": 24,
   "metadata": {},
   "outputs": [
    {
     "output_type": "execute_result",
     "data": {
      "text/plain": [
       "3"
      ]
     },
     "metadata": {},
     "execution_count": 24
    }
   ],
   "source": [
    "dictionary = {(1,2):3}\n",
    "dictionary[(1,2)]"
   ]
  },
  {
   "cell_type": "code",
   "execution_count": 35,
   "metadata": {},
   "outputs": [],
   "source": [
    "field=np.array([[-1, -1, -1, -1, -1, -1, -1, -1, -1, -1, -1, -1, -1, -1, -1, -1, -1],\n",
    " [-1,  0,  0,  0,  0,  0,  0,  0,  0,  0,  0,  0,  0,  0,  0,  0, -1],\n",
    " [-1,  0, -1,  0, -1,  0, -1,  0, -1,  0, -1,  0, -1,  0, -1,  0, -1],\n",
    " [-1,  0,  0,  0,  0,  0,  0,  0,  0,  0,  0,  0,  0,  0,  0,  0, -1],\n",
    " [-1,  0, -1,  0, -1,  0, -1,  0, -1,  0, -1,  0, -1,  0, -1,  0, -1],\n",
    " [-1,  0,  0,  0,  0,  0,  0,  0,  0,  0,  0,  0,  0,  0,  0,  0, -1],\n",
    " [-1,  0, -1,  0, -1,  0, -1,  0, -1,  0, -1,  0, -1,  0, -1,  0, -1],\n",
    " [-1,  0,  0,  0,  0,  0,  0,  0,  0,  0,  0,  0,  0,  0,  0,  0, -1],\n",
    " [-1,  0, -1,  0, -1,  0, -1,  0, -1,  0, -1,  0, -1,  0, -1,  0, -1],\n",
    " [-1,  0,  0,  0,  0,  0,  0,  0,  0,  0,  0,  0,  0,  0,  0,  0, -1],\n",
    " [-1,  0, -1,  0, -1,  0, -1,  0, -1,  0, -1,  0, -1,  0, -1,  0, -1],\n",
    " [-1,  0,  0,  0,  0,  0,  0,  0,  0,  0,  0,  0,  0,  0,  0,  0, -1],\n",
    " [-1,  0, -1,  0, -1,  0, -1,  0, -1,  0, -1,  0, -1,  0, -1,  0, -1],\n",
    " [-1,  0,  0,  0,  0,  0,  0,  0,  0,  0,  0,  0,  0,  0,  0,  0, -1],\n",
    " [-1,  0, -1,  0, -1,  0, -1,  0, -1,  0, -1,  0, -1,  0, -1,  0, -1],\n",
    " [-1,  0,  0,  0,  0,  0,  0,  0,  0,  0,  0,  0,  0,  0,  0,  0, -1],\n",
    " [-1, -1, -1, -1, -1, -1, -1, -1, -1, -1, -1, -1, -1, -1, -1, -1, -1]])"
   ]
  },
  {
   "cell_type": "code",
   "execution_count": 36,
   "metadata": {},
   "outputs": [],
   "source": [
    "dictionary = get_all_exploding_tiles(field)"
   ]
  },
  {
   "cell_type": "code",
   "execution_count": 39,
   "metadata": {},
   "outputs": [
    {
     "output_type": "execute_result",
     "data": {
      "text/plain": [
       "array([19, 20, 21, 22, 18])"
      ]
     },
     "metadata": {},
     "execution_count": 39
    }
   ],
   "source": [
    "dictionary[(1,2)]"
   ]
  },
  {
   "cell_type": "code",
   "execution_count": 9,
   "metadata": {},
   "outputs": [
    {
     "output_type": "execute_result",
     "data": {
      "text/plain": [
       "array([1.41421356, 2.82842712])"
      ]
     },
     "metadata": {},
     "execution_count": 9
    }
   ],
   "source": [
    "A = np.array([(1,2),(1,2)])\n",
    "np.linalg.norm(A, axis = 0)"
   ]
  },
  {
   "cell_type": "code",
   "execution_count": null,
   "metadata": {},
   "outputs": [],
   "source": []
  }
 ]
}